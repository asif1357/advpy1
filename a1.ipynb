{
 "cells": [
  {
   "cell_type": "markdown",
   "id": "2599d4b7",
   "metadata": {},
   "source": [
    "# Assignment 1\n",
    "1. Basically for code reusability and improve readability of program and deal with real world entity\n",
    "2. Firstly in itself (current) if not present then in inherited classes according to the order \n",
    "3. class objects(variables and methods) can be called using class name but for calling instance attributes class object      has to be created first \n",
    "4. the first argument of class method deicdes the type of class it is i.e. if self(although not a keyword) indicates the      intance method if cls indicates class method otherwise static method \n",
    "5. __init__ is constructor method which is executed every time an object is created\n",
    "6. if employee is class then its object is created as e=employee(arguments)\n",
    "7. class class_name :\n",
    "8. A superclass is the class from which many subclasses can be created.The superclass is also known as the parent class or    base class.\n"
   ]
  }
 ],
 "metadata": {
  "kernelspec": {
   "display_name": "Python 3 (ipykernel)",
   "language": "python",
   "name": "python3"
  },
  "language_info": {
   "codemirror_mode": {
    "name": "ipython",
    "version": 3
   },
   "file_extension": ".py",
   "mimetype": "text/x-python",
   "name": "python",
   "nbconvert_exporter": "python",
   "pygments_lexer": "ipython3",
   "version": "3.9.12"
  }
 },
 "nbformat": 4,
 "nbformat_minor": 5
}
